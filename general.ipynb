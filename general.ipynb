{
 "cells": [
  {
   "cell_type": "code",
   "execution_count": null,
   "metadata": {},
   "outputs": [],
   "source": [
    "import numpy as np\n",
    "import pandas as pd\n",
    "import matplotlib.pyplot as plt\n",
    "import os, platform, sys\n",
    "from sklearn.linear_model import LogisticRegression\n",
    "from sklearn.cross_validation import train_test_split\n",
    "from sklearn.preprocessing import StandardScaler\n",
    "from sklearn.preprocessing import LabelEncoder, OneHotEncoder\n",
    "\n",
    "new_df = pd.DataFrame()\n",
    "\n",
    "def change_pdFrame(row):\n",
    "   temp_genres = row['omdb_genres']\n",
    "   idx = 0\n",
    "   while idx < len(temp_genres):\n",
    "       movies_row = row\n",
    "       movies_row['genres'] = temp_genres[idx]\n",
    "       idx = idx + 1\n",
    "       new_df.append(movies_row)\n",
    "   \n",
    "\n",
    "movies_data = pd.merge(omdb_data, rotten_tomatoes, on=['imdb_id'])\n",
    "movies_data.apply(change_pdFrame, axis=1)"
   ]
  },
  {
   "cell_type": "code",
   "execution_count": null,
   "metadata": {},
   "outputs": [],
   "source": []
  }
 ],
 "metadata": {
  "kernelspec": {
   "display_name": "Python 3",
   "language": "python",
   "name": "python3"
  },
  "language_info": {
   "codemirror_mode": {
    "name": "ipython",
    "version": 3
   },
   "file_extension": ".py",
   "mimetype": "text/x-python",
   "name": "python",
   "nbconvert_exporter": "python",
   "pygments_lexer": "ipython3",
   "version": "3.6.6"
  }
 },
 "nbformat": 4,
 "nbformat_minor": 2
}
